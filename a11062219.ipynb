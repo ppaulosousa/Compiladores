{
 "cells": [
  {
   "cell_type": "markdown",
   "metadata": {},
   "source": [
    "# 1. Pesquise qual o formato dos emails e crie um programa que reconheça emails corretamente escritos."
   ]
  },
  {
   "cell_type": "raw",
   "metadata": {},
   "source": [
    "email@email.com/pt"
   ]
  },
  {
   "cell_type": "code",
   "execution_count": 69,
   "metadata": {},
   "outputs": [
    {
     "name": "stdin",
     "output_type": "stream",
     "text": [
      "Insira um e-mail:  manel_da_padaria@gmail.com\n"
     ]
    },
    {
     "name": "stdout",
     "output_type": "stream",
     "text": [
      "E-mail aceite\n"
     ]
    }
   ],
   "source": [
    "import re\n",
    "\n",
    "regex = '^\\w+[\\._]?\\w+[@]\\w+[\\.]?\\w+[.]\\w{2,3}$'\n",
    "email = input('Insira um e-mail: ')\n",
    "\n",
    "if re.match(regex, email):\n",
    "    print('E-mail aceite')\n",
    "else:\n",
    "    print('E-mail não aceite')"
   ]
  },
  {
   "cell_type": "markdown",
   "metadata": {},
   "source": [
    "# 2. Escreva uma expressão regular e utilize-a num programa que valide uma nota entre 0 e 20 valores, aceitando números inteiros, ou com até duas casas decimais."
   ]
  },
  {
   "cell_type": "code",
   "execution_count": 15,
   "metadata": {},
   "outputs": [
    {
     "name": "stdin",
     "output_type": "stream",
     "text": [
      "Insira sua nota:  011\n"
     ]
    },
    {
     "name": "stdout",
     "output_type": "stream",
     "text": [
      "Nota invalida\n"
     ]
    }
   ],
   "source": [
    "regex = '^[0-1]?[0-9]$|^20$'\n",
    "nota = input(\"Insira sua nota: \")\n",
    "\n",
    "if re.match(regex, nota):\n",
    "    print(\"Nota valida\")\n",
    "    \n",
    "else:\n",
    "    print('Nota invalida')"
   ]
  },
  {
   "cell_type": "markdown",
   "metadata": {},
   "source": [
    "# 3. Escreva um programa que valida se um número de telefone de 9 dígitos está correto. Neste caso não têm espaço entre os dígitos. Poderá ter espaços entre os dígitos assim como '-'"
   ]
  },
  {
   "cell_type": "code",
   "execution_count": 44,
   "metadata": {},
   "outputs": [
    {
     "name": "stdin",
     "output_type": "stream",
     "text": [
      "Insira o numero do telefone:  911-972-970\n"
     ]
    },
    {
     "name": "stdout",
     "output_type": "stream",
     "text": [
      "Telefone válido\n"
     ]
    }
   ],
   "source": [
    "regex = '^[2789]\\d{8}$'\n",
    "tel = input('Insira o numero do telefone: ')\n",
    "if re.match(regex, tel):\n",
    "    print('Telefone válido')\n",
    "else:\n",
    "    print('Telefone invalido')"
   ]
  },
  {
   "cell_type": "markdown",
   "metadata": {},
   "source": [
    "# 4. Escreva um programa que valida se um número de telefone de 9 dígitos está correto. Poderá ter espaços entre dígitos assim como '-'.\n",
    "    \"Exemplo: 912345678, 912 345 678, 91 234 56 78, 912-345-678"
   ]
  },
  {
   "cell_type": "code",
   "execution_count": null,
   "metadata": {},
   "outputs": [],
   "source": [
    "regex= '^[2789]\\d[ -]?\\d[ -]?\\d[ -]?\\d[ -]?\\d[ -]?\\d[ -]?\\d[ -]?\\d[ -]?$' #assumi todas possibilidades do exemplo\n",
    "tel = input('Insira o numero do telefone: ')\n",
    "if re.match(regex, tel):\n",
    "    print('Telefone válido')\n",
    "else:\n",
    "    print('Telefone invalido')"
   ]
  },
  {
   "cell_type": "markdown",
   "metadata": {},
   "source": [
    "# 5. Crie uma expressão regular para verificar a complexidade de uma password,\n",
    "    \n",
    "    Considere que esta deverá ter:,\n",
    "    * pelo menos uma maiúscula,\n",
    "    * pelo menos três minúscula,\n",
    "    * pelo menos um dígito,\n",
    "    * pelo menos seis carateres,\n",
    "    * pelo menos um carater especial,\n",
    "    \"Nota: ,\n",
    "    * a expressão regular ``(?=.*?[A-Z]).{3}\n",
    "    ``indica que há pelo menos uma letra maiúscula numa sequencia de 3 carateres``\n",
    "    * a expressão regular ``(?=(?:[^A-Z]*[A-Z]){3})\n",
    "    `` indica que há pelo menos 3 letras maiúsculas``"
   ]
  },
  {
   "cell_type": "code",
   "execution_count": 24,
   "metadata": {},
   "outputs": [
    {
     "name": "stdin",
     "output_type": "stream",
     "text": [
      "Insira a senha:  Aabc1!\n"
     ]
    },
    {
     "name": "stdout",
     "output_type": "stream",
     "text": [
      "Senha válida\n"
     ]
    }
   ],
   "source": [
    "import re\n",
    "\n",
    "#regex = '^(?=.*?[A-Z]).{6}$|^(?=(?:[^a-z]*[a-z]){3})$|^(?=.*?\\W).{6}$|^(?=.*?\\d).{6}$' # Porque está ignorandoas partes?\n",
    "regex = r'^(?=.*?\\W)(?=.*?\\d)(?=(?:[^a-z]*[a-z]){3,})(?=.*?[A-Z]).{6,}$' #ok\n",
    "p = input('Insira a senha: ')\n",
    "if re.match(regex, p):\n",
    "    print('Senha válida')\n",
    "else:\n",
    "    print('Senha invalida')"
   ]
  },
  {
   "cell_type": "markdown",
   "metadata": {},
   "source": [
    "# 6. Escreva um programa que recebe um ficheiro de texto e imprime uma lista de todos os emails que este contem. Utilize a expressão regular que definiu na pergunta 1."
   ]
  },
  {
   "cell_type": "code",
   "execution_count": 34,
   "metadata": {},
   "outputs": [
    {
     "name": "stdout",
     "output_type": "stream",
     "text": [
      "['ppaulorobertoas@gmail.com', '11062219@lis.ulusiada.pt', 'manel_da_padaria@bol.com', 'aderito.talho@carne.pt']\n"
     ]
    }
   ],
   "source": [
    "import re\n",
    "\n",
    "\n",
    "with open('email.txt', 'r') as f:\n",
    "    contents = f.readlines()\n",
    "   \n",
    "regex = '^\\w+[\\._]?\\w+[@]\\w+[\\.]?\\w+[.]\\w{2,3}$'\n",
    "emails = []\n",
    "\n",
    "for match in contents:\n",
    "    emails += re.findall(regex, match)\n",
    "\n",
    "print(emails)"
   ]
  },
  {
   "cell_type": "markdown",
   "metadata": {},
   "source": [
    "7. Escreva um programa que recebe um ficheiro com emails e retorna apenas o domínio de cada email. Por exemplo, para ``abc.test@gmail.com, xyz@test.in, test.first@analyticsvidhya.com, first.test@rest.biz `` deverá retornar,\n",
    "    \"``[com, in, com, biz]``,\n",
    "    \"Pista: no método findall, se identificarmos um grupo (...), é retornado apenas o seu conteúdo. Exemplo:\n",
    "    ```\n",
    "    \">> result=re.findall(r':(\\\\d\\\\d)','aba:32 gre:23 qwerv:56') \\n\",\n",
    "    \">> print (result)\\n\",\n",
    "    \"['32', '23', '56']\\n\",\n",
    "    \"```\""
   ]
  },
  {
   "cell_type": "code",
   "execution_count": null,
   "metadata": {},
   "outputs": [],
   "source": [
    "\n"
   ]
  },
  {
   "cell_type": "code",
   "execution_count": 19,
   "metadata": {},
   "outputs": [
    {
     "name": "stdout",
     "output_type": "stream",
     "text": [
      "['com\\n', '', 'pt\\n', '', 'com\\n', '', 'pt', '']\n"
     ]
    }
   ],
   "source": [
    "import re\n",
    "\n",
    "\n",
    "with open('email.txt', 'r') as f:\n",
    "    contents = f.readlines()\n",
    "\n",
    "regex = r'((?:[^\\.]*){2})$' #Quase\n",
    "dominio = []\n",
    "\n",
    "for match in contents:\n",
    "    dominio += re.findall(regex, match)\n",
    "print(dominio)\n",
    "   "
   ]
  },
  {
   "cell_type": "code",
   "execution_count": null,
   "metadata": {},
   "outputs": [],
   "source": []
  },
  {
   "cell_type": "code",
   "execution_count": null,
   "metadata": {},
   "outputs": [],
   "source": []
  }
 ],
 "metadata": {
  "kernelspec": {
   "display_name": "Python 3",
   "language": "python",
   "name": "python3"
  },
  "language_info": {
   "codemirror_mode": {
    "name": "ipython",
    "version": 3
   },
   "file_extension": ".py",
   "mimetype": "text/x-python",
   "name": "python",
   "nbconvert_exporter": "python",
   "pygments_lexer": "ipython3",
   "version": "3.7.4"
  }
 },
 "nbformat": 4,
 "nbformat_minor": 4
}
