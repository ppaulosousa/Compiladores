{
 "cells": [
  {
   "cell_type": "code",
   "execution_count": 120,
   "metadata": {
    "ExecuteTime": {
     "end_time": "2020-10-17T18:12:28.994058Z",
     "start_time": "2020-10-17T18:11:43.672340Z"
    },
    "execution": {
     "iopub.execute_input": "2020-10-21T09:02:45.220320Z",
     "iopub.status.busy": "2020-10-21T09:02:45.220320Z",
     "iopub.status.idle": "2020-10-21T09:02:47.403259Z",
     "shell.execute_reply": "2020-10-21T09:02:47.403259Z",
     "shell.execute_reply.started": "2020-10-21T09:02:45.220320Z"
    }
   },
   "outputs": [
    {
     "name": "stdout",
     "output_type": "stream",
     "text": [
      "Pesquisando valores de apartamentos T0,T1 e T2 no site do Imovirtual em Lisboa...\n",
      "As médias de preços para cada são: T0:960€, T1: 1013€, T2: 1561€\n",
      " \n",
      "Foram encontradas um total de 72 apartamentospara arrendar sendo:\n",
      " T0: 24;\n",
      " T1: 24;\n",
      " T2: 24.\n",
      " \n",
      " Foi verificado que o apartamento T0 mais caro custa: 2100 € e o mais barato custa: 550\n",
      " Foi verificado que o apartamento T1 mais caro custa: 1500 € e o mais barato custa: 750\n",
      " Foi verificado que o apartamento T2 mais caro custa: 4500 € e o mais barato custa: 600\n",
      "\n"
     ]
    },
    {
     "data": {
      "image/png": "[encoded data removed]",
      "text/plain": [
       "<Figure size 432x288 with 1 Axes>"
      ]
     },
     "metadata": {},
     "output_type": "display_data"
    }
   ],
   "source": [
    "from bs4 import BeautifulSoup\n",
    "import requests\n",
    "import re\n",
    "import matplotlib.pyplot as plt \n",
    "import numpy as np \n",
    "\n",
    "print(\"Pesquisando valores de apartamentos T0,T1 e T2 no site do Imovirtual em Lisboa...\")\n",
    "\n",
    "resultst0, resultst1, resultst2 = [], [], []\n",
    "mediat0, mediat1,mediat2 = 0,0,0\n",
    "#Analise da primeira página para o teste correr mais rapidamente.\n",
    "NPagest0 = 1 #13\n",
    "NPagest1 = 1 #82\n",
    "NPagest2 = 1 #120\n",
    "\n",
    "#T0\n",
    "\n",
    "for page in range(1,NPagest0+1):\n",
    "    source = requests.get(f\"https://www.imovirtual.com/arrendar/apartamento/?search%5Bfilter_enum_rooms_num%5D%5B0%5D=zero&search%5Bregion_id%5D=11&page={page}\").text\n",
    "    soup = BeautifulSoup(source, 'lxml')\n",
    "    resultst0 += [soup.find_all('li', class_=('offer-item-price'))]\n",
    "string = \"\"\n",
    "for result in resultst0:\n",
    "    for n in result:\n",
    "        string += str(n)\n",
    "pricet0 = re.findall(r'(?=\\S)[\\d\\s]*(?= \\S )', string)\n",
    "Pricest0 = []\n",
    "for prices in pricet0:\n",
    "    if n is not None:\n",
    "        Pricest0 += [int(prices.replace(\" \",\"\"))]\n",
    "\n",
    "for p in Pricest0:\n",
    "    mediat0 += p\n",
    "#T1\n",
    "for page in range(1,NPagest1+1):\n",
    "    source = requests.get(f\"https://www.imovirtual.com/arrendar/apartamento/lisboa/?search%5Bfilter_enum_rooms_num%5D%5B0%5D=1&search%5Bregion_id%5D=11&page={page}\").text\n",
    "    soup = BeautifulSoup(source, 'lxml')\n",
    "    resultst1 += [soup.find_all('li', class_=('offer-item-price'))]\n",
    "string = \"\"\n",
    "for result in resultst1:\n",
    "    for n in result:\n",
    "        string += str(n)\n",
    "pricet1 = re.findall(r'(?=\\S)[\\d\\s]*(?= \\S )', string)\n",
    "Pricest1 = []\n",
    "for prices in pricet1:\n",
    "    if n is not None:\n",
    "        Pricest1 += [int(prices.replace(\" \",\"\"))]\n",
    "for p in Pricest1:\n",
    "    mediat1 += p\n",
    "#T2\n",
    "\n",
    "for page in range(1,NPagest2+1):\n",
    "    source = requests.get(f\"https://www.imovirtual.com/arrendar/apartamento/?search%5Bfilter_enum_rooms_num%5D%5B0%5D=2&search%5Bregion_id%5D=11&page={page}\").text\n",
    "    soup = BeautifulSoup(source, 'lxml')\n",
    "    resultst2 += [soup.find_all('li', class_=('offer-item-price'))]\n",
    "string = \"\"\n",
    "for result in resultst2:\n",
    "    for n in result:\n",
    "        string += str(n)\n",
    "pricet2 = re.findall(r'(?=\\S)[\\d\\s]*(?= \\S )', string)\n",
    "Pricest2 = []\n",
    "for prices in pricet2:\n",
    "    if n is not None:\n",
    "        Pricest2 += [int(prices.replace(\" \",\"\"))]\n",
    "for p in Pricest2:\n",
    "    mediat2 += p\n",
    "\n",
    "    \n",
    "print(f\"As médias de preços para cada são: T0:{int(mediat0/len(Pricest0))}€, T1: {int(mediat1/len(Pricest1))}€, T2: {int(mediat2/len(Pricest2))}€\\n \")\n",
    "\n",
    "print(f\"Foram encontradas um total de {len(Pricest0)+len(Pricest1)+len(Pricest2)} apartamentospara arrendar \\\n",
    "sendo:\\n T0: {len(Pricest0)};\\n T1: {len(Pricest1)};\\n T2: {len(Pricest2)}.\\n \")\n",
    "print(f\" Foi verificado que o apartamento T0 mais caro custa: {max(Pricest0)} € e o mais barato custa: {min(Pricest0)}\")\n",
    "print(f\" Foi verificado que o apartamento T1 mais caro custa: {max(Pricest1)} € e o mais barato custa: {min(Pricest1)}\")\n",
    "print(f\" Foi verificado que o apartamento T2 mais caro custa: {max(Pricest2)} € e o mais barato custa: {min(Pricest2)}\\n\")\n",
    "\n",
    "x = [Pricest0,Pricest1,Pricest2]\n",
    "ax = plt.subplot()\n",
    "ax.set_title('Diferença entre T0, T1, T2')\n",
    "plt.boxplot(x)\n",
    "plt.show()\n"
   ]
  },
  {
   "cell_type": "raw",
   "metadata": {},
   "source": []
  }
 ],
 "metadata": {
  "kernelspec": {
   "display_name": "Python 3",
   "language": "python",
   "name": "python3"
  },
  "language_info": {
   "codemirror_mode": {
    "name": "ipython",
    "version": 3
   },
   "file_extension": ".py",
   "mimetype": "text/x-python",
   "name": "python",
   "nbconvert_exporter": "python",
   "pygments_lexer": "ipython3",
   "version": "3.8.3"
  }
 },
 "nbformat": 4,
 "nbformat_minor": 4
}
